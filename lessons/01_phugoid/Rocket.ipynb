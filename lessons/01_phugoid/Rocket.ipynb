{
 "metadata": {
  "name": "",
  "signature": "sha256:d2b20e4e38bd7967132402e85260cca888a2d6fb5ad9b0d2883e6fe8934fd3bd"
 },
 "nbformat": 3,
 "nbformat_minor": 0,
 "worksheets": [
  {
   "cells": [
    {
     "cell_type": "code",
     "collapsed": false,
     "input": [
      "from sympy import *\n",
      "from sympy.abc import *\n",
      "import numpy as np\n",
      "from __future__ import division\n",
      "x, y, z, t = symbols('x y z t')\n",
      "A, k, m, n, ms, mp, mp0, g, r, rho, CD, ve = symbols('A k m n m_s m_p m_p_0 g r rho C_D v_e')\n",
      "f, v, h = symbols('f v h', cls=Function)\n",
      "init_printing()\n",
      "ms, rho, CD, ve"
     ],
     "language": "python",
     "metadata": {},
     "outputs": [
      {
       "latex": [
        "$$\\left ( m_{s}, \\quad \\rho, \\quad C_{D}, \\quad v_{e}\\right )$$"
       ],
       "metadata": {},
       "output_type": "pyout",
       "png": "[encoded data removed]",
       "prompt_number": 328,
       "text": [
        "(m_s, \u03c1, C_D, v\u2091)"
       ]
      }
     ],
     "prompt_number": 328
    },
    {
     "cell_type": "raw",
     "metadata": {},
     "source": [
      "#The equations of motion for a rocket in purely vertical flight are given by\n",
      "#\n",
      "#        dhdt(ms+mp)dvdt=v=\u2212(ms+mp)g+m\u02d9pve\u221212\u03c1v|v|ACD\n",
      "#        h is the altitude of the rocket\n",
      "#        ms =50kg is the weight of the rocket shell\n",
      "#        g=9.81ms2\n",
      "#        \u03c1=1.091kgm3 is the average air density (assumed constant throughout flight)\n",
      "#        A= \u03c0r2 is the maximum cross sectional area of the rocket, where r=0.5m\n",
      "#        ve=325ms is the exhaust speed\n",
      "#        CD=0.15 is the drag coefficient\n",
      "#        mpo=100 kg at time t=0 is the initial weight of the rocket propellant\n",
      "#        The mass of the remaining propellant is given by:\n",
      "#        \n",
      "#mp=mpo\u2212\u222bt0m\u02d9pd\u03c4\n",
      "#where m\u02d9p is the time-varying burn rate\n",
      "Propellant Burn Rate is 20kg/s - note needs to decline as afunction of t - t0.\n",
      "\n",
      "Using Euler's method with a timestep of \u0394t=0.1s, create a Python script to calculate the altitude and velocity of the rocket from launch until crash down.  "
     ]
    },
    {
     "cell_type": "code",
     "collapsed": false,
     "input": [
      "#First equation of the system\n",
      "dh_dt = Eq(diff(h(t),t),v)\n",
      "dh_dt"
     ],
     "language": "python",
     "metadata": {},
     "outputs": [
      {
       "latex": [
        "$$\\frac{d}{d t} h{\\left (t \\right )} = v$$"
       ],
       "metadata": {},
       "output_type": "pyout",
       "png": "[encoded data removed]",
       "prompt_number": 329,
       "text": [
        "d           \n",
        "\u2500\u2500(h(t)) = v\n",
        "dt          "
       ]
      }
     ],
     "prompt_number": 329
    },
    {
     "cell_type": "code",
     "collapsed": false,
     "input": [
      "#Second equation of the system\n",
      "dv_dt = Eq(diff(v(t),t),(-(ms+mp)*g +diff(mp(t), (t))*ve - 1/2*rho*v(t)*np.abs(v(t))*A*CD)/(ms+mp))\n",
      "dv_dt"
     ],
     "language": "python",
     "metadata": {},
     "outputs": [
      {
       "latex": [
        "$$\\frac{d}{d t} v{\\left (t \\right )} = \\frac{1}{m_{p} + m_{s}} \\left(- 0.5 A C_{D} \\rho v{\\left (t \\right )} \\left\\lvert{v{\\left (t \\right )}}\\right\\rvert + g \\left(- m_{p} - m_{s}\\right) + v_{e} \\frac{d}{d t} \\operatorname{m_{p}}{\\left (t \\right )}\\right)$$"
       ],
       "metadata": {},
       "output_type": "pyout",
       "prompt_number": 330,
       "text": [
        "                                                             d         \n",
        "           -- -0.5\u22c5A\u22c5C_D\u22c5\u03c1\u22c5v(t)\u22c5\u2502v(t)\u2502 + g\u22c5(-m_p - m_s) + v\u2091\u22c5\u2500\u2500(m_p(t))\n",
        "d                                                            dt        \n",
        "\u2500\u2500(v(t)) = \u2500\u2500\u2500\u2500\u2500\u2500\u2500\u2500\u2500\u2500\u2500\u2500\u2500\u2500\u2500\u2500\u2500\u2500\u2500\u2500\u2500\u2500\u2500\u2500\u2500\u2500\u2500\u2500\u2500\u2500\u2500\u2500\u2500\u2500\u2500\u2500\u2500\u2500\u2500\u2500\u2500\u2500\u2500\u2500\u2500\u2500\u2500\u2500\u2500\u2500\u2500\u2500\u2500\u2500\u2500\u2500\u2500\u2500\u2500\u2500\n",
        "dt                                  m_p + m_s                          "
       ]
      }
     ],
     "prompt_number": 330
    },
    {
     "cell_type": "code",
     "collapsed": false,
     "input": [
      "#Initial conditions\n",
      "h0 = 0 #Starts at height = 0.\n",
      "v0 = 0 #=dh/dt = 0, initial velocity = 0\n",
      "dt = .1 #Delta t\n",
      "N = 550 #Really needs to be keyed to when h=0 for the second time. \n",
      "#Initial Parameters\n",
      "ms = 50 #kg\n",
      "g = 9.81\n",
      "rho = 1.091\n",
      "A = np.pi*0.5**2\n",
      "ve = 325\n",
      "CD = 0.15\n",
      "mp0 = 100"
     ],
     "language": "python",
     "metadata": {},
     "outputs": [],
     "prompt_number": 361
    },
    {
     "cell_type": "code",
     "collapsed": false,
     "input": [
      "#HELPER FUNCTIONS\n",
      "#1. Function definitions\n",
      "def Dv_Dt(vel, fuel):\n",
      "    v = vel\n",
      "    mp= fuel\n",
      "    if mp > 0:\n",
      "        d_mp = 20\n",
      "    else: d_mp = 0\n",
      "\n",
      "    return (1/(mp+ms))*(-0.5*A*CD*rho*v*np.abs(v) +g*(-mp-ms)+ve*d_mp) #check how to define v and mp"
     ],
     "language": "python",
     "metadata": {},
     "outputs": [],
     "prompt_number": 362
    },
    {
     "cell_type": "code",
     "collapsed": false,
     "input": [
      "#CREATE ARRAYS\n",
      "#Array for values of h and v\n",
      "u = numpy.empty((N, 2))\n",
      "u[0] = numpy.array([h0,v0])# fill 1st element with initial values\n",
      "#Array for\n",
      "Flight = np.array([h0,v0])\n",
      "Flight"
     ],
     "language": "python",
     "metadata": {},
     "outputs": [
      {
       "metadata": {},
       "output_type": "pyout",
       "prompt_number": 363,
       "text": [
        "array([0, 0])"
       ]
      }
     ],
     "prompt_number": 363
    },
    {
     "cell_type": "code",
     "collapsed": false,
     "input": [
      "# Time loop - Euler method\n",
      "mp= mp0 + 0 # The addition of 2 accounts for that weight @ t=0 = 100kg\n",
      "for n in range(0,N-1):\n",
      "    if mp >0:\n",
      "        mp = mp - dt*20\n",
      "        #print mp\n",
      "    else:\n",
      "        mp = 0\n",
      "    u[n+1,1] = u[n,1] + dt*Dv_Dt(u[n,1], mp)#multiplies acceleration by time to give increase in velocity plus old velocity. \n",
      "    #print Dv_Dt(u[n,1],mp)\n",
      "    u[n+1,0] = u[n,0] + dt*u[n,1]#Multiplies velocity * dt to gain height value\n",
      "    if u[n+1,0]< 0:\n",
      "        u[n+1,0] = -0.0001"
     ],
     "language": "python",
     "metadata": {},
     "outputs": [],
     "prompt_number": 364
    },
    {
     "cell_type": "code",
     "collapsed": false,
     "input": [
      "import matplotlib.pyplot as plt\n",
      "%matplotlib inline\n",
      "pylab.rcParams['figure.figsize'] = 10, 8\n",
      "t = np.linspace(0,55,num=550)\n",
      "velocity = u[:,1]\n",
      "height = u[:,0]\n",
      "plt.title('$Rocket Launch$')\n",
      "plt.xlabel('$Time - secs.$')\n",
      "plt.ylabel('$Velocity\\ (ms^{-1})\\ &\\ Altitude\\ (m)$')\n",
      "plt.plot(t,velocity, label='$Velocity$' )\n",
      "plt.plot(t,height, label='$Altitude$')\n",
      "plt.legend()\n",
      "plt.grid(True)"
     ],
     "language": "python",
     "metadata": {},
     "outputs": [
      {
       "metadata": {},
       "output_type": "display_data",
       "png": "[encoded data removed]",
       "text": [
        "<matplotlib.figure.Figure at 0x9bf1970>"
       ]
      }
     ],
     "prompt_number": 365
    },
    {
     "cell_type": "code",
     "collapsed": false,
     "input": [
      "t_max_height = np.argmax(height)+1 #np.where(height == np.max(height))\n",
      "max_height = np.max(height)\n",
      "print 'Time =',t_max_height/10,'secs.','Max altitude =', round(max_height,2)"
     ],
     "language": "python",
     "metadata": {},
     "outputs": [
      {
       "output_type": "stream",
       "stream": "stdout",
       "text": [
        "Time = 15.7 secs. Max altitude = 1316.62\n"
       ]
      }
     ],
     "prompt_number": 343
    },
    {
     "cell_type": "code",
     "collapsed": false,
     "input": [
      "#Checking for correctness\n",
      "height[160:170]"
     ],
     "language": "python",
     "metadata": {},
     "outputs": [
      {
       "metadata": {},
       "output_type": "pyout",
       "prompt_number": 344,
       "text": [
        "array([ 1315.87627819,  1315.44528253,  1314.91642562,  1314.2898282 ,\n",
        "        1313.56563542,  1312.74401672,  1311.82516568,  1310.8092998 ,\n",
        "        1309.69666034,  1308.48751203])"
       ]
      }
     ],
     "prompt_number": 344
    },
    {
     "cell_type": "code",
     "collapsed": false,
     "input": [
      "t_min_height = np.min(np.where(height<0)[0])+1\n",
      "final_velocity = velocity[t_min_height-2]\n",
      "print 'Impact at Time =',t_min_height/10,'secs.','Velocity =', round(final_velocity,2)"
     ],
     "language": "python",
     "metadata": {},
     "outputs": [
      {
       "output_type": "stream",
       "stream": "stdout",
       "text": [
        "Impact at Time = 36.9 secs. Velocity = -85.92\n"
       ]
      }
     ],
     "prompt_number": 351
    },
    {
     "cell_type": "code",
     "collapsed": false,
     "input": [
      "height[360:370]"
     ],
     "language": "python",
     "metadata": {},
     "outputs": []
    },
    {
     "cell_type": "code",
     "collapsed": false,
     "input": [
      "vmax = np.argmax(velocity)/10\n",
      "vmax, height[vmax*10]"
     ],
     "language": "python",
     "metadata": {},
     "outputs": []
    },
    {
     "cell_type": "code",
     "collapsed": false,
     "input": [
      "max_velocity = round(np.max(velocity),2)\n",
      "time_vmax = np.argmax(velocity)/10\n",
      "max_altitude = height[vmax*10]\n",
      "print 'Time of maximum velocity=',time_vmax,'secs.','Velocity =', round(max_velocity,2),'ms @ ',round(max_altitude,2),'m. altitude'"
     ],
     "language": "python",
     "metadata": {},
     "outputs": []
    },
    {
     "cell_type": "code",
     "collapsed": false,
     "input": [],
     "language": "python",
     "metadata": {},
     "outputs": []
    }
   ],
   "metadata": {}
  }
 ]
}